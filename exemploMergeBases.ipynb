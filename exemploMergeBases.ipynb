{
 "cells": [
  {
   "cell_type": "markdown",
   "metadata": {},
   "source": [
    "###Criando exemplo de engenharia de dados\n"
   ]
  },
  {
   "cell_type": "code",
   "execution_count": null,
   "metadata": {},
   "outputs": [],
   "source": [
    "import pandas as pd"
   ]
  },
  {
   "cell_type": "code",
   "execution_count": null,
   "metadata": {},
   "outputs": [],
   "source": [
    "# Criando dois DataFrames de exemplo\n",
    "data1 = {\n",
    "    'id': [1, 2, 3, 4],\n",
    "    'nome': ['Alice', 'Bob', 'Charlie', 'David']\n",
    "}\n",
    "\n",
    "data2 = {\n",
    "    'id': [3, 4, 5, 6],\n",
    "    'idade': [23, 34, 45, 56]\n",
    "}"
   ]
  },
  {
   "cell_type": "code",
   "execution_count": null,
   "metadata": {},
   "outputs": [],
   "source": [
    "df1 = pd.DataFrame(data1)\n",
    "df2 = pd.DataFrame(data2)"
   ]
  },
  {
   "cell_type": "code",
   "execution_count": null,
   "metadata": {},
   "outputs": [],
   "source": [
    "# Exibindo os DataFrames originais\n",
    "print(\"DataFrame 1:\")\n",
    "print(df1)\n",
    "print(\"\\nDataFrame 2:\")\n",
    "print(df2)\n",
    "\n",
    "# Realizando a junção (merge) dos DataFrames com base na coluna 'id'\n",
    "df_merged = pd.merge(df1, df2, on='id', how='right')\n",
    "\n",
    "# Exibindo o DataFrame resultante da junção\n",
    "print(\"\\nDataFrame Resultante da Junção:\")\n",
    "print(df_merged)\n"
   ]
  }
 ],
 "metadata": {
  "kernelspec": {
   "display_name": "base",
   "language": "python",
   "name": "python3"
  },
  "language_info": {
   "codemirror_mode": {
    "name": "ipython",
    "version": 3
   },
   "file_extension": ".py",
   "mimetype": "text/x-python",
   "name": "python",
   "nbconvert_exporter": "python",
   "pygments_lexer": "ipython3",
   "version": "3.11.7"
  }
 },
 "nbformat": 4,
 "nbformat_minor": 2
}
